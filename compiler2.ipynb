{
 "cells": [
  {
   "attachments": {},
   "cell_type": "markdown",
   "metadata": {},
   "source": [
    "--- defining the environment of the program + compiler ---"
   ]
  },
  {
   "attachments": {},
   "cell_type": "markdown",
   "metadata": {},
   "source": [
    "define the memory strip of the program,\n",
    "and the translator for the parser"
   ]
  },
  {
   "cell_type": "code",
   "execution_count": 473,
   "metadata": {},
   "outputs": [],
   "source": [
    "memorystrip = [0, 0, 0, 0, 0, 0, 0, 0, 0, 0]\n",
    "\n",
    "analogous = {\"WHILE\": \"while\",\n",
    "             \"IF\": \"if\",\n",
    "             \"〈\": \" READ(\",\n",
    "             \"〉\": \") \",\n",
    "             \"DO\": \":\",\n",
    "             \"THEN\": \":\",\n",
    "             \"DISPLAY\": \"DISPLAY()\",\n",
    "             \"RESET\": \"RESET()\"}"
   ]
  },
  {
   "attachments": {},
   "cell_type": "markdown",
   "metadata": {},
   "source": [
    "translate the goofy ahh language into python terms"
   ]
  },
  {
   "cell_type": "code",
   "execution_count": 474,
   "metadata": {},
   "outputs": [],
   "source": [
    "def parse(code):\n",
    "    for x in analogous:\n",
    "        code = code.replace(x, analogous[x])\n",
    "    \n",
    "    return code"
   ]
  },
  {
   "attachments": {},
   "cell_type": "markdown",
   "metadata": {},
   "source": [
    "indent the code correctly (add tabs)"
   ]
  },
  {
   "cell_type": "code",
   "execution_count": 475,
   "metadata": {},
   "outputs": [],
   "source": [
    "def indent_code(code):\n",
    "    depth_map = [0]\n",
    "    depth_map_value = 0\n",
    "    \n",
    "    for x in code:\n",
    "        if x == \"[\":\n",
    "            depth_map_value += 1\n",
    "        if x == \"]\":\n",
    "            depth_map_value -= 1\n",
    "        \n",
    "        if x == \"[\" or x == \"\\n\" or x == \"]\":\n",
    "            depth_map.append(depth_map_value)\n",
    "    \n",
    "    code = code.replace(\":\", \":\\n\").replace(\" \", \"\")\n",
    "    \n",
    "    code = code.split(\"\\n\")\n",
    "    \n",
    "    for x in range(len(code)):\n",
    "        code[x] = \"    \" * depth_map[x] + code[x]\n",
    "    \n",
    "    code = \"\\n\".join(code).replace(\"[\", \"\").replace(\"]\", \"\")\n",
    "    code = code.replace(\"while\", \"while \")\n",
    "    code = code.replace(\"if\", \"if \")\n",
    "    \n",
    "    return code"
   ]
  },
  {
   "attachments": {},
   "cell_type": "markdown",
   "metadata": {},
   "source": [
    "--- defining functions neccesary to run the program after parsing / indenting ---"
   ]
  },
  {
   "cell_type": "code",
   "execution_count": 476,
   "metadata": {},
   "outputs": [],
   "source": [
    "def RESET():\n",
    "    global memorystrip\n",
    "    memorystrip = [0, 0, 0, 0, 0, 0, 0, 0, 0, 0]"
   ]
  },
  {
   "cell_type": "code",
   "execution_count": 477,
   "metadata": {},
   "outputs": [],
   "source": [
    "def PUT(index, value):\n",
    "    global memorystrip\n",
    "        \n",
    "    if index >= 1 and index <= 10:\n",
    "        memorystrip[index - 1] = value\n",
    "    else:\n",
    "        raise IndexError(\"cant modify a value outside of the memorystrip, use indexes between 1 - 10\")"
   ]
  },
  {
   "cell_type": "code",
   "execution_count": 478,
   "metadata": {},
   "outputs": [],
   "source": [
    "def READ(index):\n",
    "    return memorystrip[index - 1]"
   ]
  },
  {
   "cell_type": "code",
   "execution_count": 479,
   "metadata": {},
   "outputs": [],
   "source": [
    "def DISPLAY():\n",
    "    text = \"|\"\n",
    "    \n",
    "    for x in memorystrip:\n",
    "        text += f\" {x} |\"\n",
    "    \n",
    "    overline = \" \" + \"_\" * (len(text) - 2)\n",
    "    underline = \" \" + \"‾\" * (len(text) - 2)\n",
    "    \n",
    "    print(overline)\n",
    "    print(text)\n",
    "    print(underline)"
   ]
  },
  {
   "attachments": {},
   "cell_type": "markdown",
   "metadata": {},
   "source": [
    "--- add various quality of life functions / all in one funcs ---"
   ]
  },
  {
   "cell_type": "code",
   "execution_count": 480,
   "metadata": {},
   "outputs": [],
   "source": [
    "def run(filepath):\n",
    "    print(\"--- finding file ---\")\n",
    "    with open(filepath, \"r\") as file:\n",
    "        print(\"--- loading file ---\")\n",
    "        code = file.read()\n",
    "    \n",
    "    print(\"--- parsing code ---\")\n",
    "    parsed = parse(code)\n",
    "    print(\"--- tabbing code ---\")\n",
    "    indented = indent_code(parsed)\n",
    "    \n",
    "    print(\"--- running code ---\")\n",
    "    exec(indented)"
   ]
  },
  {
   "cell_type": "code",
   "execution_count": 481,
   "metadata": {},
   "outputs": [
    {
     "name": "stdout",
     "output_type": "stream",
     "text": [
      "--- finding file ---\n",
      "--- loading file ---\n",
      "--- parsing code ---\n",
      "--- tabbing code ---\n",
      "--- running code ---\n",
      " _______________________________________\n",
      "| 0 | 2 | 0 | 0 | 0 | 0 | 0 | 0 | 0 | 2 |\n",
      " ‾‾‾‾‾‾‾‾‾‾‾‾‾‾‾‾‾‾‾‾‾‾‾‾‾‾‾‾‾‾‾‾‾‾‾‾‾‾‾\n",
      " _______________________________________\n",
      "| 0 | 2 | 3 | 0 | 0 | 0 | 0 | 0 | 0 | 3 |\n",
      " ‾‾‾‾‾‾‾‾‾‾‾‾‾‾‾‾‾‾‾‾‾‾‾‾‾‾‾‾‾‾‾‾‾‾‾‾‾‾‾\n",
      " _______________________________________\n",
      "| 0 | 2 | 3 | 4 | 0 | 0 | 0 | 0 | 0 | 4 |\n",
      " ‾‾‾‾‾‾‾‾‾‾‾‾‾‾‾‾‾‾‾‾‾‾‾‾‾‾‾‾‾‾‾‾‾‾‾‾‾‾‾\n",
      " _______________________________________\n",
      "| 0 | 2 | 3 | 4 | 5 | 0 | 0 | 0 | 0 | 5 |\n",
      " ‾‾‾‾‾‾‾‾‾‾‾‾‾‾‾‾‾‾‾‾‾‾‾‾‾‾‾‾‾‾‾‾‾‾‾‾‾‾‾\n",
      " _______________________________________\n",
      "| 0 | 2 | 3 | 4 | 5 | 6 | 0 | 0 | 0 | 6 |\n",
      " ‾‾‾‾‾‾‾‾‾‾‾‾‾‾‾‾‾‾‾‾‾‾‾‾‾‾‾‾‾‾‾‾‾‾‾‾‾‾‾\n",
      " _______________________________________\n",
      "| 0 | 2 | 3 | 4 | 5 | 6 | 7 | 0 | 0 | 7 |\n",
      " ‾‾‾‾‾‾‾‾‾‾‾‾‾‾‾‾‾‾‾‾‾‾‾‾‾‾‾‾‾‾‾‾‾‾‾‾‾‾‾\n",
      " _______________________________________\n",
      "| 0 | 2 | 3 | 4 | 5 | 6 | 7 | 8 | 0 | 8 |\n",
      " ‾‾‾‾‾‾‾‾‾‾‾‾‾‾‾‾‾‾‾‾‾‾‾‾‾‾‾‾‾‾‾‾‾‾‾‾‾‾‾\n",
      " _______________________________________\n",
      "| 0 | 2 | 3 | 4 | 5 | 6 | 7 | 8 | 9 | 9 |\n",
      " ‾‾‾‾‾‾‾‾‾‾‾‾‾‾‾‾‾‾‾‾‾‾‾‾‾‾‾‾‾‾‾‾‾‾‾‾‾‾‾\n",
      " ________________________________________\n",
      "| 0 | 2 | 3 | 4 | 5 | 6 | 7 | 8 | 9 | 10 |\n",
      " ‾‾‾‾‾‾‾‾‾‾‾‾‾‾‾‾‾‾‾‾‾‾‾‾‾‾‾‾‾‾‾‾‾‾‾‾‾‾‾‾\n",
      " _______________________________________\n",
      "| 0 | 0 | 0 | 0 | 0 | 0 | 0 | 0 | 0 | 0 |\n",
      " ‾‾‾‾‾‾‾‾‾‾‾‾‾‾‾‾‾‾‾‾‾‾‾‾‾‾‾‾‾‾‾‾‾‾‾‾‾‾‾\n"
     ]
    }
   ],
   "source": [
    "run(r\"C:\\Users\\user\\Desktop\\text nn\\test.txt\")"
   ]
  },
  {
   "cell_type": "code",
   "execution_count": null,
   "metadata": {},
   "outputs": [],
   "source": []
  }
 ],
 "metadata": {
  "kernelspec": {
   "display_name": "summarizerP39",
   "language": "python",
   "name": "python3"
  },
  "language_info": {
   "codemirror_mode": {
    "name": "ipython",
    "version": 3
   },
   "file_extension": ".py",
   "mimetype": "text/x-python",
   "name": "python",
   "nbconvert_exporter": "python",
   "pygments_lexer": "ipython3",
   "version": "3.9.16"
  },
  "orig_nbformat": 4
 },
 "nbformat": 4,
 "nbformat_minor": 2
}
